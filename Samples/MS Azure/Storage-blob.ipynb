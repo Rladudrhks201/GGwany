{
 "cells": [
  {
   "cell_type": "code",
   "execution_count": 1,
   "metadata": {},
   "outputs": [
    {
     "name": "stdout",
     "output_type": "stream",
     "text": [
      "Defaulting to user installation because normal site-packages is not writeable\n",
      "Collecting azure-storage-blob\n",
      "  Downloading azure_storage_blob-12.14.1-py3-none-any.whl (383 kB)\n",
      "Requirement already satisfied: cryptography>=2.1.4 in c:\\programdata\\anaconda3\\lib\\site-packages (from azure-storage-blob) (3.4.8)\n",
      "Requirement already satisfied: msrest>=0.7.1 in c:\\users\\user\\appdata\\roaming\\python\\python39\\site-packages (from azure-storage-blob) (0.7.1)\n",
      "Requirement already satisfied: azure-core<2.0.0,>=1.24.2 in c:\\users\\user\\appdata\\roaming\\python\\python39\\site-packages (from azure-storage-blob) (1.26.0)\n",
      "Requirement already satisfied: requests>=2.18.4 in c:\\programdata\\anaconda3\\lib\\site-packages (from azure-core<2.0.0,>=1.24.2->azure-storage-blob) (2.27.1)\n",
      "Requirement already satisfied: typing-extensions>=4.0.1 in c:\\programdata\\anaconda3\\lib\\site-packages (from azure-core<2.0.0,>=1.24.2->azure-storage-blob) (4.1.1)\n",
      "Requirement already satisfied: six>=1.11.0 in c:\\programdata\\anaconda3\\lib\\site-packages (from azure-core<2.0.0,>=1.24.2->azure-storage-blob) (1.16.0)\n",
      "Requirement already satisfied: cffi>=1.12 in c:\\programdata\\anaconda3\\lib\\site-packages (from cryptography>=2.1.4->azure-storage-blob) (1.15.0)\n",
      "Requirement already satisfied: pycparser in c:\\programdata\\anaconda3\\lib\\site-packages (from cffi>=1.12->cryptography>=2.1.4->azure-storage-blob) (2.21)\n",
      "Requirement already satisfied: isodate>=0.6.0 in c:\\users\\user\\appdata\\roaming\\python\\python39\\site-packages (from msrest>=0.7.1->azure-storage-blob) (0.6.1)\n",
      "Requirement already satisfied: requests-oauthlib>=0.5.0 in c:\\users\\user\\appdata\\roaming\\python\\python39\\site-packages (from msrest>=0.7.1->azure-storage-blob) (1.3.1)\n",
      "Requirement already satisfied: certifi>=2017.4.17 in c:\\programdata\\anaconda3\\lib\\site-packages (from msrest>=0.7.1->azure-storage-blob) (2021.10.8)\n",
      "Requirement already satisfied: urllib3<1.27,>=1.21.1 in c:\\programdata\\anaconda3\\lib\\site-packages (from requests>=2.18.4->azure-core<2.0.0,>=1.24.2->azure-storage-blob) (1.26.9)\n",
      "Requirement already satisfied: charset-normalizer~=2.0.0 in c:\\programdata\\anaconda3\\lib\\site-packages (from requests>=2.18.4->azure-core<2.0.0,>=1.24.2->azure-storage-blob) (2.0.4)\n",
      "Requirement already satisfied: idna<4,>=2.5 in c:\\programdata\\anaconda3\\lib\\site-packages (from requests>=2.18.4->azure-core<2.0.0,>=1.24.2->azure-storage-blob) (3.3)\n",
      "Requirement already satisfied: oauthlib>=3.0.0 in c:\\users\\user\\appdata\\roaming\\python\\python39\\site-packages (from requests-oauthlib>=0.5.0->msrest>=0.7.1->azure-storage-blob) (3.2.1)\n",
      "Installing collected packages: azure-storage-blob\n",
      "Successfully installed azure-storage-blob-12.14.1\n"
     ]
    }
   ],
   "source": [
    "!pip install azure-storage-blob"
   ]
  },
  {
   "cell_type": "code",
   "execution_count": 2,
   "metadata": {},
   "outputs": [],
   "source": [
    "import os, uuid\n",
    "from azure.storage.blob import BlobServiceClient, BlobClient, ContainerClient"
   ]
  },
  {
   "cell_type": "code",
   "execution_count": 4,
   "metadata": {},
   "outputs": [],
   "source": [
    "# Blob 서비스에 연결합니다\n",
    "connect_string = 'DefaultEndpointsProtocol=https;AccountName=labuser26storage2;AccountKey=nxuaEmpPlsyiHXxwQ4tDNUFRBeLjPMpDtMSLsVIznXl5TPEJ2SE9r6w1dDQKZaQ0PNgyP+5z/ASt+AStezOxLw==;EndpointSuffix=core.windows.net' \n",
    "# 액세스 키의 연결문자열\n",
    "\n",
    "blob_service_client = BlobServiceClient.from_connection_string(connect_string)\n",
    "# blob 서비스를 연결한 클라이언트를 생성"
   ]
  },
  {
   "cell_type": "code",
   "execution_count": 5,
   "metadata": {},
   "outputs": [
    {
     "name": "stdout",
     "output_type": "stream",
     "text": [
      "a13b473c-7436-426e-95d3-ef3b92980994\n"
     ]
    }
   ],
   "source": [
    "# Container 생성\n",
    "Container_name = str(uuid.uuid4()) # 난수같은 숫자열을 생성하여 컨테이너 이름으로 만듬\n",
    "print(Container_name)\n",
    "\n",
    "container_client = blob_service_client.create_container(Container_name)"
   ]
  },
  {
   "cell_type": "code",
   "execution_count": 8,
   "metadata": {},
   "outputs": [],
   "source": [
    "# 데이터를 업로드할 경로를 만듬\n",
    "local_path = './data'\n",
    "os.mkdir(local_path)\n",
    "\n",
    "local_file_name = str(uuid.uuid4()) + '.txt'\n",
    "upload_file_path = os.path.join(local_path,local_file_name)"
   ]
  },
  {
   "cell_type": "code",
   "execution_count": 16,
   "metadata": {},
   "outputs": [],
   "source": [
    "# 업로드할 파일을 준비\n",
    "file = open(file=upload_file_path,mode='w')\n",
    "file.write('Hello Azure Stroage')\n",
    "file.close()\n",
    "\n",
    "blob_client = blob_service_client.get_blob_client(container=Container_name,\n",
    "                                                  blob = local_file_name)\n",
    "# 파일 업로드\n",
    "with open(file=upload_file_path,mode='rb') as data:\n",
    "    blob_client.upload_blob(data)                                                "
   ]
  },
  {
   "cell_type": "code",
   "execution_count": 18,
   "metadata": {},
   "outputs": [
    {
     "name": "stdout",
     "output_type": "stream",
     "text": [
      "\t9c35f8cc-46fc-40fc-ab8b-0238978320e5.txt\n"
     ]
    }
   ],
   "source": [
    "# 파일의 목록의 확인\n",
    "blob_list = container_client.list_blobs()\n",
    "for blob in blob_list:\n",
    "    print('\\t' + blob.name)\n",
    "\n",
    "# 업로드된 파일의 다운로드\n",
    "download_file_path = os.path.join(local_path,\n",
    "                                  str.replace(local_file_name,'.txt','DOWNLOAD.txt'))"
   ]
  },
  {
   "cell_type": "code",
   "execution_count": 20,
   "metadata": {},
   "outputs": [],
   "source": [
    "# 업로드된 파일의 다운로드\n",
    "\n",
    "download_file_path = os.path.join(local_path,\n",
    "                                  str.replace(local_file_name,'.txt','DOWNLOAD.txt'))\n",
    "container_client = blob_service_client.get_container_client(container=Container_name)                                  \n",
    "\n",
    "with open(file=download_file_path,mode='wb') as download_file:\n",
    "    download_file.write(container_client.download_blob(blob.name).readall()) # blob 속의 파일을 실제로 다운로드"
   ]
  },
  {
   "cell_type": "code",
   "execution_count": 22,
   "metadata": {},
   "outputs": [
    {
     "name": "stdout",
     "output_type": "stream",
     "text": [
      "press the Enter key to begin clean up\n",
      "Deleting blob container...\n",
      "Deleting the local source and download files...\n",
      "Done\n"
     ]
    }
   ],
   "source": [
    "# 실습한 자원의 정리\n",
    "print('press the Enter key to begin clean up')\n",
    "input()\n",
    "\n",
    "print('Deleting blob container...')\n",
    "container_client.delete_container()\n",
    "\n",
    "print('Deleting the local source and download files...')\n",
    "os.remove(upload_file_path)\n",
    "os.remove(download_file_path)\n",
    "os.rmdir(local_path)\n",
    "\n",
    "print('Done')"
   ]
  }
 ],
 "metadata": {
  "kernelspec": {
   "display_name": "Python 3.9.12 ('base')",
   "language": "python",
   "name": "python3"
  },
  "language_info": {
   "codemirror_mode": {
    "name": "ipython",
    "version": 3
   },
   "file_extension": ".py",
   "mimetype": "text/x-python",
   "name": "python",
   "nbconvert_exporter": "python",
   "pygments_lexer": "ipython3",
   "version": "3.9.12"
  },
  "orig_nbformat": 4,
  "vscode": {
   "interpreter": {
    "hash": "ad2bdc8ecc057115af97d19610ffacc2b4e99fae6737bb82f5d7fb13d2f2c186"
   }
  }
 },
 "nbformat": 4,
 "nbformat_minor": 2
}
