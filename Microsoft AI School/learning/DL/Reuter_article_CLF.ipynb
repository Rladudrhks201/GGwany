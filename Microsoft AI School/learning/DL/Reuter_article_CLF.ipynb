{
 "cells": [
  {
   "cell_type": "code",
   "execution_count": 1,
   "metadata": {},
   "outputs": [],
   "source": [
    "import keras\n",
    "import numpy as np\n",
    "import matplotlib.pyplot as plt"
   ]
  },
  {
   "cell_type": "code",
   "execution_count": 2,
   "metadata": {},
   "outputs": [
    {
     "name": "stdout",
     "output_type": "stream",
     "text": [
      "Downloading data from https://storage.googleapis.com/tensorflow/tf-keras-datasets/reuters.npz\n",
      "2110848/2110848 [==============================] - 0s 0us/step\n"
     ]
    }
   ],
   "source": [
    "# 로이터 기사 데이터 셋을 로딩합니다.\n",
    "\n",
    "from keras.datasets import reuters\n",
    "(train_data,train_labels),(test_data,test_labels) = reuters.load_data(num_words=10000)"
   ]
  },
  {
   "cell_type": "code",
   "execution_count": 4,
   "metadata": {},
   "outputs": [
    {
     "data": {
      "text/plain": [
       "'? ? ? said as a result of its december acquisition of space co it expects earnings per share in 1987 of 1 15 to 1 30 dlrs per share up from 70 cts in 1986 the company said pretax net should rise to nine to 10 mln dlrs from six mln dlrs in 1986 and rental operation revenues to 19 to 22 mln dlrs from 12 5 mln dlrs it said cash flow per share this year should be 2 50 to three dlrs reuter 3'"
      ]
     },
     "execution_count": 4,
     "metadata": {},
     "output_type": "execute_result"
    }
   ],
   "source": [
    "word_index = reuters.get_word_index()\n",
    "reverse_word_index = dict([value,key] for (key,value) in word_index.items())\n",
    "\n",
    "decoded_newswire = ' '.join([reverse_word_index.get(i-3,'?') for i in train_data[0]])\n",
    "decoded_newswire"
   ]
  },
  {
   "cell_type": "code",
   "execution_count": 5,
   "metadata": {},
   "outputs": [],
   "source": [
    "# 데이터의 준비\n",
    "def vectorize_sequences(sequences,dimension=10000):\n",
    "    results = np.zeros((len(sequences),dimension))\n",
    "    for i,p in enumerate(sequences):\n",
    "        results[i,p] = 1\n",
    "    return results"
   ]
  },
  {
   "cell_type": "code",
   "execution_count": 12,
   "metadata": {},
   "outputs": [],
   "source": [
    "# 데이터의 변환\n",
    "x_train = vectorize_sequences(train_data)\n",
    "x_test = vectorize_sequences(test_data)"
   ]
  },
  {
   "cell_type": "code",
   "execution_count": 13,
   "metadata": {},
   "outputs": [
    {
     "data": {
      "text/plain": [
       "array([ 3,  4,  3, ..., 25,  3, 25], dtype=int64)"
      ]
     },
     "execution_count": 13,
     "metadata": {},
     "output_type": "execute_result"
    }
   ],
   "source": [
    "train_labels"
   ]
  },
  {
   "cell_type": "code",
   "execution_count": 14,
   "metadata": {},
   "outputs": [],
   "source": [
    "# 라벨 데이터의 인코딩\n",
    "def to_one_hot(labels,dimension=46):\n",
    "    results = np.zeros((len(labels),dimension))\n",
    "\n",
    "    for i, seq in enumerate(labels):\n",
    "        results[i,seq] = 1\n",
    "    return results\n",
    "\n",
    "one_hot_train_labels = to_one_hot(train_labels)\n",
    "one_hot_test_labels = to_one_hot(test_labels)"
   ]
  },
  {
   "cell_type": "code",
   "execution_count": 15,
   "metadata": {},
   "outputs": [],
   "source": [
    "# categorical 데이터로 변환\n",
    "from keras.utils.np_utils import to_categorical\n",
    "\n",
    "one_hot_train_labels = to_categorical(train_labels)\n",
    "one_hot_test_labels = to_categorical(test_labels)"
   ]
  },
  {
   "cell_type": "code",
   "execution_count": 17,
   "metadata": {},
   "outputs": [],
   "source": [
    "# 신경망을 구성\n",
    "\n",
    "from keras import layers\n",
    "from keras import models\n",
    "\n",
    "model = models.Sequential()\n",
    "model.add(layers.Dense(64,activation='relu',input_shape = (10000,)))\n",
    "model.add(layers.Dense(64,activation='relu'))\n",
    "model.add(layers.Dense(46,activation='softmax'))"
   ]
  },
  {
   "cell_type": "code",
   "execution_count": 18,
   "metadata": {},
   "outputs": [
    {
     "name": "stdout",
     "output_type": "stream",
     "text": [
      "Model: \"sequential\"\n",
      "_________________________________________________________________\n",
      " Layer (type)                Output Shape              Param #   \n",
      "=================================================================\n",
      " dense (Dense)               (None, 64)                640064    \n",
      "                                                                 \n",
      " dense_1 (Dense)             (None, 64)                4160      \n",
      "                                                                 \n",
      " dense_2 (Dense)             (None, 46)                2990      \n",
      "                                                                 \n",
      "=================================================================\n",
      "Total params: 647,214\n",
      "Trainable params: 647,214\n",
      "Non-trainable params: 0\n",
      "_________________________________________________________________\n"
     ]
    }
   ],
   "source": [
    "model.summary()"
   ]
  },
  {
   "cell_type": "code",
   "execution_count": 19,
   "metadata": {},
   "outputs": [],
   "source": [
    "model.compile(optimizer='rmsprop',\n",
    "              loss = 'categorical_crossentropy',\n",
    "              metrics=['accuracy'])"
   ]
  },
  {
   "cell_type": "code",
   "execution_count": 20,
   "metadata": {},
   "outputs": [],
   "source": [
    "# 훈련,검증 데이터 분리\n",
    "x_val = x_train[:1000]\n",
    "partial_x_train = x_train[1000:]\n",
    "y_val = one_hot_train_labels[:1000]\n",
    "partial_y_train = one_hot_train_labels[1000:]"
   ]
  },
  {
   "cell_type": "code",
   "execution_count": 21,
   "metadata": {},
   "outputs": [
    {
     "name": "stdout",
     "output_type": "stream",
     "text": [
      "Epoch 1/20\n",
      "16/16 [==============================] - 1s 31ms/step - loss: 2.6535 - accuracy: 0.5115 - val_loss: 1.7627 - val_accuracy: 0.6380\n",
      "Epoch 2/20\n",
      "16/16 [==============================] - 0s 19ms/step - loss: 1.4342 - accuracy: 0.7067 - val_loss: 1.3376 - val_accuracy: 0.7030\n",
      "Epoch 3/20\n",
      "16/16 [==============================] - 0s 19ms/step - loss: 1.0630 - accuracy: 0.7736 - val_loss: 1.1608 - val_accuracy: 0.7540\n",
      "Epoch 4/20\n",
      "16/16 [==============================] - 0s 20ms/step - loss: 0.8434 - accuracy: 0.8176 - val_loss: 1.0593 - val_accuracy: 0.7770\n",
      "Epoch 5/20\n",
      "16/16 [==============================] - 0s 19ms/step - loss: 0.6725 - accuracy: 0.8583 - val_loss: 0.9819 - val_accuracy: 0.8020\n",
      "Epoch 6/20\n",
      "16/16 [==============================] - 0s 21ms/step - loss: 0.5399 - accuracy: 0.8896 - val_loss: 0.9449 - val_accuracy: 0.8000\n",
      "Epoch 7/20\n",
      "16/16 [==============================] - 0s 19ms/step - loss: 0.4378 - accuracy: 0.9107 - val_loss: 0.9168 - val_accuracy: 0.8080\n",
      "Epoch 8/20\n",
      "16/16 [==============================] - 0s 22ms/step - loss: 0.3547 - accuracy: 0.9257 - val_loss: 0.8976 - val_accuracy: 0.8200\n",
      "Epoch 9/20\n",
      "16/16 [==============================] - 0s 19ms/step - loss: 0.2957 - accuracy: 0.9355 - val_loss: 0.9606 - val_accuracy: 0.7970\n",
      "Epoch 10/20\n",
      "16/16 [==============================] - 0s 19ms/step - loss: 0.2519 - accuracy: 0.9451 - val_loss: 0.9241 - val_accuracy: 0.8220\n",
      "Epoch 11/20\n",
      "16/16 [==============================] - 0s 19ms/step - loss: 0.2157 - accuracy: 0.9461 - val_loss: 0.9450 - val_accuracy: 0.8190\n",
      "Epoch 12/20\n",
      "16/16 [==============================] - 0s 18ms/step - loss: 0.1912 - accuracy: 0.9508 - val_loss: 0.9494 - val_accuracy: 0.8050\n",
      "Epoch 13/20\n",
      "16/16 [==============================] - 0s 19ms/step - loss: 0.1704 - accuracy: 0.9505 - val_loss: 0.9826 - val_accuracy: 0.8010\n",
      "Epoch 14/20\n",
      "16/16 [==============================] - 0s 20ms/step - loss: 0.1559 - accuracy: 0.9557 - val_loss: 0.9788 - val_accuracy: 0.8050\n",
      "Epoch 15/20\n",
      "16/16 [==============================] - 0s 20ms/step - loss: 0.1464 - accuracy: 0.9558 - val_loss: 0.9965 - val_accuracy: 0.8020\n",
      "Epoch 16/20\n",
      "16/16 [==============================] - 0s 20ms/step - loss: 0.1345 - accuracy: 0.9573 - val_loss: 1.0419 - val_accuracy: 0.8020\n",
      "Epoch 17/20\n",
      "16/16 [==============================] - 0s 20ms/step - loss: 0.1311 - accuracy: 0.9560 - val_loss: 1.0315 - val_accuracy: 0.8170\n",
      "Epoch 18/20\n",
      "16/16 [==============================] - 0s 18ms/step - loss: 0.1238 - accuracy: 0.9579 - val_loss: 1.0654 - val_accuracy: 0.8010\n",
      "Epoch 19/20\n",
      "16/16 [==============================] - 0s 18ms/step - loss: 0.1178 - accuracy: 0.9570 - val_loss: 1.1113 - val_accuracy: 0.7970\n",
      "Epoch 20/20\n",
      "16/16 [==============================] - 0s 19ms/step - loss: 0.1144 - accuracy: 0.9593 - val_loss: 1.1196 - val_accuracy: 0.7960\n"
     ]
    }
   ],
   "source": [
    "history = model.fit(partial_x_train,partial_y_train,epochs=20,batch_size=512,validation_data=(x_val,y_val))"
   ]
  },
  {
   "cell_type": "code",
   "execution_count": 23,
   "metadata": {},
   "outputs": [],
   "source": [
    "loss = history.history['loss']\n",
    "acc = history.history['accuracy']\n",
    "val_loss = history.history['val_loss']\n",
    "val_acc = history.history['val_accuracy']\n",
    "epochs = range(1,len(loss)+1)"
   ]
  },
  {
   "cell_type": "code",
   "execution_count": 24,
   "metadata": {},
   "outputs": [
    {
     "data": {
      "image/png": "[encoded data removed]",
      "text/plain": [
       "<Figure size 432x288 with 1 Axes>"
      ]
     },
     "metadata": {
      "needs_background": "light"
     },
     "output_type": "display_data"
    }
   ],
   "source": [
    "# 결과의 시각화\n",
    "plt.plot(epochs,loss,'bo',label='training loss')\n",
    "plt.plot(epochs,val_loss,'r-',label='validation loss')\n",
    "plt.xlabel('epochs')\n",
    "plt.ylabel('loss')\n",
    "plt.title('train and validation loss')\n",
    "plt.legend()\n",
    "plt.show()"
   ]
  },
  {
   "cell_type": "code",
   "execution_count": 25,
   "metadata": {},
   "outputs": [
    {
     "data": {
      "image/png": "[encoded data removed]",
      "text/plain": [
       "<Figure size 432x288 with 1 Axes>"
      ]
     },
     "metadata": {
      "needs_background": "light"
     },
     "output_type": "display_data"
    }
   ],
   "source": [
    "# 결과의 시각화\n",
    "plt.plot(epochs,acc,'bo',label='training acc')\n",
    "plt.plot(epochs,val_acc,'r-',label='validation acc')\n",
    "plt.xlabel('epochs')\n",
    "plt.ylabel('accuracy')\n",
    "plt.title('train and validation accuracy')\n",
    "plt.legend()\n",
    "plt.show()"
   ]
  },
  {
   "cell_type": "code",
   "execution_count": 27,
   "metadata": {},
   "outputs": [],
   "source": [
    "model = models.Sequential()\n",
    "model.add(layers.Dense(64,activation='relu',input_shape = (10000,)))\n",
    "model.add(layers.Dense(4,activation='relu'))\n",
    "model.add(layers.Dense(46,activation='softmax'))\n",
    "# 중간 은닉층의 유닛수를 4로 줄여봄"
   ]
  },
  {
   "cell_type": "code",
   "execution_count": 28,
   "metadata": {},
   "outputs": [],
   "source": [
    "model.compile(optimizer='rmsprop',\n",
    "              loss = 'categorical_crossentropy',\n",
    "              metrics=['accuracy'])"
   ]
  },
  {
   "cell_type": "code",
   "execution_count": 29,
   "metadata": {},
   "outputs": [
    {
     "name": "stdout",
     "output_type": "stream",
     "text": [
      "Epoch 1/20\n",
      "16/16 [==============================] - 1s 28ms/step - loss: 3.5896 - accuracy: 0.0140 - val_loss: 3.3472 - val_accuracy: 0.0240\n",
      "Epoch 2/20\n",
      "16/16 [==============================] - 0s 20ms/step - loss: 3.1796 - accuracy: 0.0955 - val_loss: 3.0156 - val_accuracy: 0.1990\n",
      "Epoch 3/20\n",
      "16/16 [==============================] - 0s 20ms/step - loss: 2.8223 - accuracy: 0.2479 - val_loss: 2.6881 - val_accuracy: 0.2500\n",
      "Epoch 4/20\n",
      "16/16 [==============================] - 0s 18ms/step - loss: 2.4665 - accuracy: 0.3889 - val_loss: 2.3522 - val_accuracy: 0.5500\n",
      "Epoch 5/20\n",
      "16/16 [==============================] - 0s 19ms/step - loss: 2.1399 - accuracy: 0.5609 - val_loss: 2.0837 - val_accuracy: 0.5580\n",
      "Epoch 6/20\n",
      "16/16 [==============================] - 0s 19ms/step - loss: 1.8969 - accuracy: 0.5668 - val_loss: 1.9034 - val_accuracy: 0.5640\n",
      "Epoch 7/20\n",
      "16/16 [==============================] - 0s 19ms/step - loss: 1.7464 - accuracy: 0.5745 - val_loss: 1.8076 - val_accuracy: 0.5610\n",
      "Epoch 8/20\n",
      "16/16 [==============================] - 0s 20ms/step - loss: 1.6538 - accuracy: 0.5760 - val_loss: 1.7480 - val_accuracy: 0.5610\n",
      "Epoch 9/20\n",
      "16/16 [==============================] - 0s 19ms/step - loss: 1.5930 - accuracy: 0.5781 - val_loss: 1.7237 - val_accuracy: 0.5600\n",
      "Epoch 10/20\n",
      "16/16 [==============================] - 0s 19ms/step - loss: 1.5485 - accuracy: 0.5769 - val_loss: 1.7043 - val_accuracy: 0.5620\n",
      "Epoch 11/20\n",
      "16/16 [==============================] - 0s 19ms/step - loss: 1.5103 - accuracy: 0.5774 - val_loss: 1.6913 - val_accuracy: 0.5600\n",
      "Epoch 12/20\n",
      "16/16 [==============================] - 0s 20ms/step - loss: 1.4726 - accuracy: 0.5760 - val_loss: 1.6700 - val_accuracy: 0.5610\n",
      "Epoch 13/20\n",
      "16/16 [==============================] - 0s 19ms/step - loss: 1.4378 - accuracy: 0.5739 - val_loss: 1.6613 - val_accuracy: 0.5600\n",
      "Epoch 14/20\n",
      "16/16 [==============================] - 0s 19ms/step - loss: 1.4050 - accuracy: 0.5728 - val_loss: 1.6605 - val_accuracy: 0.5530\n",
      "Epoch 15/20\n",
      "16/16 [==============================] - 0s 20ms/step - loss: 1.3760 - accuracy: 0.5705 - val_loss: 1.6436 - val_accuracy: 0.5540\n",
      "Epoch 16/20\n",
      "16/16 [==============================] - 0s 18ms/step - loss: 1.3489 - accuracy: 0.5695 - val_loss: 1.6363 - val_accuracy: 0.5580\n",
      "Epoch 17/20\n",
      "16/16 [==============================] - 0s 18ms/step - loss: 1.3232 - accuracy: 0.5670 - val_loss: 1.6306 - val_accuracy: 0.5670\n",
      "Epoch 18/20\n",
      "16/16 [==============================] - 0s 17ms/step - loss: 1.2978 - accuracy: 0.5997 - val_loss: 1.6349 - val_accuracy: 0.5860\n",
      "Epoch 19/20\n",
      "16/16 [==============================] - 0s 19ms/step - loss: 1.2752 - accuracy: 0.6150 - val_loss: 1.6246 - val_accuracy: 0.5950\n",
      "Epoch 20/20\n",
      "16/16 [==============================] - 0s 19ms/step - loss: 1.2547 - accuracy: 0.6158 - val_loss: 1.6252 - val_accuracy: 0.5980\n"
     ]
    }
   ],
   "source": [
    "history = model.fit(partial_x_train,partial_y_train,epochs=20,batch_size=512,validation_data=(x_val,y_val))\n",
    "# 결과가 훨씬 안좋게 나옴"
   ]
  },
  {
   "cell_type": "code",
   "execution_count": 30,
   "metadata": {},
   "outputs": [
    {
     "name": "stdout",
     "output_type": "stream",
     "text": [
      "Epoch 1/20\n",
      "16/16 [==============================] - 1s 33ms/step - loss: 2.1529 - accuracy: 0.5014 - val_loss: 1.4600 - val_accuracy: 0.6340\n",
      "Epoch 2/20\n",
      "16/16 [==============================] - 0s 22ms/step - loss: 1.2218 - accuracy: 0.7150 - val_loss: 1.1738 - val_accuracy: 0.7270\n",
      "Epoch 3/20\n",
      "16/16 [==============================] - 0s 23ms/step - loss: 0.9090 - accuracy: 0.7899 - val_loss: 1.0329 - val_accuracy: 0.7780\n",
      "Epoch 4/20\n",
      "16/16 [==============================] - 0s 24ms/step - loss: 0.6944 - accuracy: 0.8373 - val_loss: 0.9518 - val_accuracy: 0.7930\n",
      "Epoch 5/20\n",
      "16/16 [==============================] - 0s 23ms/step - loss: 0.5158 - accuracy: 0.8787 - val_loss: 0.9406 - val_accuracy: 0.8010\n",
      "Epoch 6/20\n",
      "16/16 [==============================] - 0s 22ms/step - loss: 0.4046 - accuracy: 0.9008 - val_loss: 0.9932 - val_accuracy: 0.7940\n",
      "Epoch 7/20\n",
      "16/16 [==============================] - 0s 23ms/step - loss: 0.2986 - accuracy: 0.9277 - val_loss: 0.9886 - val_accuracy: 0.8000\n",
      "Epoch 8/20\n",
      "16/16 [==============================] - 0s 23ms/step - loss: 0.2395 - accuracy: 0.9396 - val_loss: 0.9512 - val_accuracy: 0.8170\n",
      "Epoch 9/20\n",
      "16/16 [==============================] - 0s 22ms/step - loss: 0.2053 - accuracy: 0.9455 - val_loss: 0.9562 - val_accuracy: 0.8170\n",
      "Epoch 10/20\n",
      "16/16 [==============================] - 0s 23ms/step - loss: 0.1707 - accuracy: 0.9506 - val_loss: 0.9887 - val_accuracy: 0.8100\n",
      "Epoch 11/20\n",
      "16/16 [==============================] - 0s 23ms/step - loss: 0.1502 - accuracy: 0.9541 - val_loss: 1.0423 - val_accuracy: 0.8010\n",
      "Epoch 12/20\n",
      "16/16 [==============================] - 0s 23ms/step - loss: 0.1480 - accuracy: 0.9531 - val_loss: 1.0658 - val_accuracy: 0.7980\n",
      "Epoch 13/20\n",
      "16/16 [==============================] - 0s 22ms/step - loss: 0.1259 - accuracy: 0.9569 - val_loss: 1.0468 - val_accuracy: 0.8140\n",
      "Epoch 14/20\n",
      "16/16 [==============================] - 0s 22ms/step - loss: 0.1200 - accuracy: 0.9577 - val_loss: 1.1754 - val_accuracy: 0.7870\n",
      "Epoch 15/20\n",
      "16/16 [==============================] - 0s 24ms/step - loss: 0.1191 - accuracy: 0.9597 - val_loss: 1.0519 - val_accuracy: 0.8090\n",
      "Epoch 16/20\n",
      "16/16 [==============================] - 0s 25ms/step - loss: 0.1150 - accuracy: 0.9569 - val_loss: 1.1156 - val_accuracy: 0.8020\n",
      "Epoch 17/20\n",
      "16/16 [==============================] - 0s 23ms/step - loss: 0.1133 - accuracy: 0.9569 - val_loss: 1.1055 - val_accuracy: 0.8060\n",
      "Epoch 18/20\n",
      "16/16 [==============================] - 0s 23ms/step - loss: 0.1059 - accuracy: 0.9574 - val_loss: 1.0827 - val_accuracy: 0.8120\n",
      "Epoch 19/20\n",
      "16/16 [==============================] - 0s 23ms/step - loss: 0.1042 - accuracy: 0.9568 - val_loss: 1.1090 - val_accuracy: 0.8080\n",
      "Epoch 20/20\n",
      "16/16 [==============================] - 0s 23ms/step - loss: 0.1016 - accuracy: 0.9583 - val_loss: 1.1649 - val_accuracy: 0.7930\n"
     ]
    }
   ],
   "source": [
    "model = models.Sequential()\n",
    "model.add(layers.Dense(64,activation='relu',input_shape = (10000,)))\n",
    "model.add(layers.Dense(1000,activation='relu'))\n",
    "model.add(layers.Dense(46,activation='softmax'))\n",
    "model.compile(optimizer='rmsprop',\n",
    "              loss = 'categorical_crossentropy',\n",
    "              metrics=['accuracy'])\n",
    "history = model.fit(partial_x_train,partial_y_train,epochs=20,batch_size=512,validation_data=(x_val,y_val))             "
   ]
  }
 ],
 "metadata": {
  "kernelspec": {
   "display_name": "Python 3.9.12 ('base')",
   "language": "python",
   "name": "python3"
  },
  "language_info": {
   "codemirror_mode": {
    "name": "ipython",
    "version": 3
   },
   "file_extension": ".py",
   "mimetype": "text/x-python",
   "name": "python",
   "nbconvert_exporter": "python",
   "pygments_lexer": "ipython3",
   "version": "3.9.12"
  },
  "orig_nbformat": 4,
  "vscode": {
   "interpreter": {
    "hash": "ad2bdc8ecc057115af97d19610ffacc2b4e99fae6737bb82f5d7fb13d2f2c186"
   }
  }
 },
 "nbformat": 4,
 "nbformat_minor": 2
}
